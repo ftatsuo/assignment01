{
 "cells": [
  {
   "cell_type": "markdown",
   "metadata": {},
   "source": [
    "<center>\n",
    "    <img src=\"https://cf-courses-data.s3.us.cloud-object-storage.appdomain.cloud/IBMDeveloperSkillsNetwork-DS0105EN-SkillsNetwork/labs/Module2/images/SN_web_lightmode.png\" width=\"300\" alt=\"cognitiveclass.ai logo\">\n",
    "</center>\n"
   ]
  },
  {
   "cell_type": "markdown",
   "metadata": {},
   "source": [
    "#### Add your code below following the instructions given in the course\n"
   ]
  },
  {
   "cell_type": "markdown",
   "metadata": {},
   "source": [
    "##My Jupyter Notebook on IBM Watson Studio"
   ]
  },
  {
   "cell_type": "markdown",
   "metadata": {},
   "source": [
    "<h1>My Jupyter Notebook on IBM Watson Studio</h1>"
   ]
  },
  {
   "cell_type": "markdown",
   "metadata": {},
   "source": [
    "<b>Fernando Tatsuo Samesima</b>\n",
    "<br>Data Scientist"
   ]
  },
  {
   "cell_type": "markdown",
   "metadata": {},
   "source": [
    "<i>I'm interested in data science because I love to find patterns.</i>\n",
    "<br>\n",
    "<i>And I love programming.</i>"
   ]
  },
  {
   "cell_type": "markdown",
   "metadata": {},
   "source": [
    "<h3>in the cell bellow, a simple multiplication</h3>"
   ]
  },
  {
   "cell_type": "code",
   "execution_count": 1,
   "metadata": {},
   "outputs": [
    {
     "data": {
      "text/plain": [
       "25"
      ]
     },
     "execution_count": 1,
     "metadata": {},
     "output_type": "execute_result"
    }
   ],
   "source": [
    "5*5"
   ]
  },
  {
   "cell_type": "markdown",
   "metadata": {},
   "source": [
    "**horizontal rule**<br>\n",
    "<hr>\n",
    "\n",
    "**bullet list**<br>\n",
    "<ul>\n",
    "  <li>one</li>\n",
    "  <li>two</li>\n",
    "</ul>\n",
    "\n",
    "**numbered list**<br>\n",
    "<ol>\n",
    "  <li>Coffee</li>\n",
    "  <li>Tea</li>\n",
    "</ol>\n",
    "\n",
    "**table**<br>\n",
    "<table>\n",
    "  <tr>\n",
    "    <th>name</th>\n",
    "    <th>country</th>\n",
    "  </tr>\n",
    "  <tr>\n",
    "    <td>fernando</td>\n",
    "    <td>brazil</td>\n",
    "  </tr>\n",
    "</table>\n",
    "\n",
    "**hyperlink**<br>\n",
    "<a href='https://www.google.com'>link</a>\n",
    "\n",
    "**image**<br>\n",
    "<img src='https://substackcdn.com/image/fetch/f_auto,q_auto:good,fl_progressive:steep/https%3A%2F%2Fbucketeer-e05bbc84-baa3-437e-9518-adb32be77984.s3.amazonaws.com%2Fpublic%2Fimages%2F1da529af-eea0-42ac-a1fc-e23b0877249a_925x550.jpeg' />\n",
    "\n",
    "**code**<br>\n",
    "<code>print(\"hello data scientists\")</code>\n",
    "\n",
    "**blocked quote**<br>\n",
    "<blockquote>blocked quote</blockquote>\n",
    "\n",
    "**strike through**<br>\n",
    "<del>strike through</del>"
   ]
  }
 ],
 "metadata": {
  "kernelspec": {
   "display_name": "Python 3 (ipykernel)",
   "language": "python",
   "name": "python3"
  },
  "language_info": {
   "codemirror_mode": {
    "name": "ipython",
    "version": 3
   },
   "file_extension": ".py",
   "mimetype": "text/x-python",
   "name": "python",
   "nbconvert_exporter": "python",
   "pygments_lexer": "ipython3",
   "version": "3.9.13"
  }
 },
 "nbformat": 4,
 "nbformat_minor": 4
}
